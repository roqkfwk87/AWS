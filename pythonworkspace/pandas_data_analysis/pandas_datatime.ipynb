{
 "cells": [
  {
   "cell_type": "code",
   "execution_count": 1,
   "metadata": {},
   "outputs": [],
   "source": [
    "import pandas as pd\n",
    "import numpy as np"
   ]
  },
  {
   "cell_type": "markdown",
   "metadata": {},
   "source": [
    "### `Datetime` 인덱스\n",
    "시계열 객체인 `Series`는 시계열 데이터를 관리하는 객체이기 때문에 데이터가 시간에 의해 관리되어저야 함   \n",
    "지금까지는 단순한 인덱스로 사용하였는데 이를 시계열로 표현하기 위해서 `DatetimeIndex`를 사용해야 함  \n",
    "`DatetimeIndex`는 시계열 인덱스를 사용하기 위한 인덱스이며 `판다스.to_datetime`, `판다스.date_range` 메서드를 사용하여 생성할 수 있음   "
   ]
  },
  {
   "cell_type": "markdown",
   "metadata": {},
   "source": [
    "`tp_datetime()` 메서드는 날짜 및 시간을 나타내는 문자열을 Datetime 자료형으로 변경한 후 `DatetimeIndex`를 생성함 "
   ]
  },
  {
   "cell_type": "code",
   "execution_count": 3,
   "metadata": {},
   "outputs": [
    {
     "data": {
      "text/plain": [
       "DatetimeIndex(['2018-01-01', '2018-01-04', '2018-01-05', '2018-01-06'], dtype='datetime64[ns]', freq=None)"
      ]
     },
     "execution_count": 3,
     "metadata": {},
     "output_type": "execute_result"
    }
   ],
   "source": [
    "date_str = ['2018, 1, 1', '2018, 1, 4', '2018, 1, 5', '2018, 1, 6']\n",
    "idx = pd.to_datetime(date_str)\n",
    "idx"
   ]
  },
  {
   "cell_type": "code",
   "execution_count": 9,
   "metadata": {},
   "outputs": [
    {
     "data": {
      "text/plain": [
       "2018-01-01   -0.741061\n",
       "2018-01-04    0.566961\n",
       "2018-01-05    1.986119\n",
       "2018-01-06   -1.279745\n",
       "dtype: float64"
      ]
     },
     "execution_count": 9,
     "metadata": {},
     "output_type": "execute_result"
    }
   ],
   "source": [
    "# 인덱스 타입 : datetime 타입\n",
    "s = pd.Series(np.random.randn(4), index=idx)\n",
    "s"
   ]
  },
  {
   "cell_type": "code",
   "execution_count": 8,
   "metadata": {},
   "outputs": [
    {
     "data": {
      "text/plain": [
       "2018, 1, 1   -0.139344\n",
       "2018, 1, 4   -0.442611\n",
       "2018, 1, 5    0.864768\n",
       "2018, 1, 6    0.087652\n",
       "dtype: float64"
      ]
     },
     "execution_count": 8,
     "metadata": {},
     "output_type": "execute_result"
    }
   ],
   "source": [
    "# 인덱스 타입 : string 타입\n",
    "s = pd.Series(np.random.randn(4), index=date_str)\n",
    "s"
   ]
  },
  {
   "cell_type": "markdown",
   "metadata": {},
   "source": [
    "`date_range` 메서드는 날짜 및 간에 대해서 시작일과 종료일 / 시작일과 기간을 입력하여 범위 내의 Datetimeindex를 생성 "
   ]
  },
  {
   "cell_type": "code",
   "execution_count": 10,
   "metadata": {},
   "outputs": [
    {
     "data": {
      "text/plain": [
       "DatetimeIndex(['2024-01-01', '2024-01-02', '2024-01-03', '2024-01-04',\n",
       "               '2024-01-05', '2024-01-06', '2024-01-07', '2024-01-08',\n",
       "               '2024-01-09', '2024-01-10', '2024-01-11', '2024-01-12',\n",
       "               '2024-01-13', '2024-01-14', '2024-01-15', '2024-01-16',\n",
       "               '2024-01-17', '2024-01-18', '2024-01-19', '2024-01-20',\n",
       "               '2024-01-21', '2024-01-22', '2024-01-23', '2024-01-24',\n",
       "               '2024-01-25', '2024-01-26', '2024-01-27', '2024-01-28',\n",
       "               '2024-01-29', '2024-01-30', '2024-01-31', '2024-02-01',\n",
       "               '2024-02-02', '2024-02-03', '2024-02-04', '2024-02-05',\n",
       "               '2024-02-06', '2024-02-07', '2024-02-08', '2024-02-09',\n",
       "               '2024-02-10', '2024-02-11', '2024-02-12', '2024-02-13',\n",
       "               '2024-02-14', '2024-02-15', '2024-02-16', '2024-02-17',\n",
       "               '2024-02-18', '2024-02-19', '2024-02-20', '2024-02-21',\n",
       "               '2024-02-22', '2024-02-23', '2024-02-24', '2024-02-25',\n",
       "               '2024-02-26', '2024-02-27', '2024-02-28', '2024-02-29',\n",
       "               '2024-03-01', '2024-03-02', '2024-03-03', '2024-03-04',\n",
       "               '2024-03-05', '2024-03-06', '2024-03-07', '2024-03-08',\n",
       "               '2024-03-09', '2024-03-10', '2024-03-11', '2024-03-12',\n",
       "               '2024-03-13', '2024-03-14', '2024-03-15', '2024-03-16',\n",
       "               '2024-03-17', '2024-03-18', '2024-03-19', '2024-03-20',\n",
       "               '2024-03-21', '2024-03-22', '2024-03-23', '2024-03-24',\n",
       "               '2024-03-25', '2024-03-26', '2024-03-27', '2024-03-28',\n",
       "               '2024-03-29', '2024-03-30', '2024-03-31'],\n",
       "              dtype='datetime64[ns]', freq='D')"
      ]
     },
     "execution_count": 10,
     "metadata": {},
     "output_type": "execute_result"
    }
   ],
   "source": [
    "pd.date_range('2024-01-01', '2024-03-31')"
   ]
  },
  {
   "cell_type": "code",
   "execution_count": 11,
   "metadata": {},
   "outputs": [
    {
     "data": {
      "text/plain": [
       "DatetimeIndex(['2024-01-01', '2024-01-02', '2024-01-03', '2024-01-04',\n",
       "               '2024-01-05', '2024-01-06', '2024-01-07', '2024-01-08',\n",
       "               '2024-01-09', '2024-01-10', '2024-01-11', '2024-01-12',\n",
       "               '2024-01-13', '2024-01-14', '2024-01-15', '2024-01-16',\n",
       "               '2024-01-17', '2024-01-18', '2024-01-19', '2024-01-20',\n",
       "               '2024-01-21', '2024-01-22', '2024-01-23', '2024-01-24',\n",
       "               '2024-01-25', '2024-01-26', '2024-01-27', '2024-01-28',\n",
       "               '2024-01-29', '2024-01-30'],\n",
       "              dtype='datetime64[ns]', freq='D')"
      ]
     },
     "execution_count": 11,
     "metadata": {},
     "output_type": "execute_result"
    }
   ],
   "source": [
    "pd.date_range('2024-01-01', periods=30)"
   ]
  },
  {
   "cell_type": "markdown",
   "metadata": {},
   "source": [
    "`freq` 인수로 특정한 날자만 생성되도록 할 수 있음  "
   ]
  },
  {
   "cell_type": "code",
   "execution_count": 12,
   "metadata": {},
   "outputs": [
    {
     "data": {
      "text/plain": [
       "DatetimeIndex(['2024-02-29 09:48:00', '2024-02-29 09:48:01',\n",
       "               '2024-02-29 09:48:02', '2024-02-29 09:48:03',\n",
       "               '2024-02-29 09:48:04', '2024-02-29 09:48:05',\n",
       "               '2024-02-29 09:48:06', '2024-02-29 09:48:07',\n",
       "               '2024-02-29 09:48:08', '2024-02-29 09:48:09',\n",
       "               '2024-02-29 09:48:10'],\n",
       "              dtype='datetime64[ns]', freq='s')"
      ]
     },
     "execution_count": 12,
     "metadata": {},
     "output_type": "execute_result"
    }
   ],
   "source": [
    "# s : 초\n",
    "pd.date_range('2024-02-29 09:48:00', '2024-02-29, 09:48:10', freq='s')"
   ]
  },
  {
   "cell_type": "code",
   "execution_count": 15,
   "metadata": {},
   "outputs": [
    {
     "data": {
      "text/plain": [
       "DatetimeIndex(['2024-02-01', '2024-02-02', '2024-02-05', '2024-02-06',\n",
       "               '2024-02-07', '2024-02-08', '2024-02-09', '2024-02-12',\n",
       "               '2024-02-13', '2024-02-14', '2024-02-15', '2024-02-16',\n",
       "               '2024-02-19', '2024-02-20', '2024-02-21', '2024-02-22',\n",
       "               '2024-02-23', '2024-02-26', '2024-02-27', '2024-02-28',\n",
       "               '2024-02-29'],\n",
       "              dtype='datetime64[ns]', freq='B')"
      ]
     },
     "execution_count": 15,
     "metadata": {},
     "output_type": "execute_result"
    }
   ],
   "source": [
    "# B : 평일\n",
    "pd.date_range('2024-02-01', '2024-02-29', freq='B')"
   ]
  },
  {
   "cell_type": "code",
   "execution_count": 17,
   "metadata": {},
   "outputs": [
    {
     "data": {
      "text/plain": [
       "DatetimeIndex(['2024-03-31', '2024-06-30', '2024-09-30', '2024-12-31'], dtype='datetime64[ns]', freq='QE-DEC')"
      ]
     },
     "execution_count": 17,
     "metadata": {},
     "output_type": "execute_result"
    }
   ],
   "source": [
    "# QE-DEC : 각 분기별 마지막 날  \n",
    "pd.date_range('2024-01-01', '2024-12-31', freq='QE-DEC')"
   ]
  },
  {
   "cell_type": "markdown",
   "metadata": {},
   "source": [
    "### `shift` 연산\n",
    "`shift()` 메서드는 인덱스는 그대로 두고 데이터만 이동   \n",
    "`freq` 인수를 지정하면 인덱스를 이동시킴   "
   ]
  },
  {
   "cell_type": "code",
   "execution_count": 18,
   "metadata": {},
   "outputs": [
    {
     "name": "stderr",
     "output_type": "stream",
     "text": [
      "C:\\Users\\ITPS\\AppData\\Local\\Temp\\ipykernel_1744\\1693488929.py:1: FutureWarning: 'M' is deprecated and will be removed in a future version, please use 'ME' instead.\n",
      "  ts = pd.Series(np.random.randn(4), index=pd.date_range(\n"
     ]
    },
    {
     "data": {
      "text/plain": [
       "2024-02-29   -2.093052\n",
       "2024-03-31   -1.359135\n",
       "2024-04-30   -0.441692\n",
       "2024-05-31   -0.776393\n",
       "Freq: ME, dtype: float64"
      ]
     },
     "execution_count": 18,
     "metadata": {},
     "output_type": "execute_result"
    }
   ],
   "source": [
    "ts = pd.Series(np.random.randn(4), index=pd.date_range(\n",
    "    \"2024-02-1\", periods=4, freq=\"M\"))\n",
    "ts"
   ]
  },
  {
   "cell_type": "code",
   "execution_count": 19,
   "metadata": {},
   "outputs": [
    {
     "data": {
      "text/plain": [
       "2024-02-29         NaN\n",
       "2024-03-31   -2.093052\n",
       "2024-04-30   -1.359135\n",
       "2024-05-31   -0.441692\n",
       "Freq: ME, dtype: float64"
      ]
     },
     "execution_count": 19,
     "metadata": {},
     "output_type": "execute_result"
    }
   ],
   "source": [
    "ts.shift(1)"
   ]
  },
  {
   "cell_type": "code",
   "execution_count": 20,
   "metadata": {},
   "outputs": [
    {
     "data": {
      "text/plain": [
       "2024-02-29   -1.359135\n",
       "2024-03-31   -0.441692\n",
       "2024-04-30   -0.776393\n",
       "2024-05-31         NaN\n",
       "Freq: ME, dtype: float64"
      ]
     },
     "execution_count": 20,
     "metadata": {},
     "output_type": "execute_result"
    }
   ],
   "source": [
    "ts.shift(-1)"
   ]
  },
  {
   "cell_type": "code",
   "execution_count": 22,
   "metadata": {},
   "outputs": [
    {
     "data": {
      "text/plain": [
       "2024-03-31   -2.093052\n",
       "2024-04-30   -1.359135\n",
       "2024-05-31   -0.441692\n",
       "2024-06-30   -0.776393\n",
       "Freq: ME, dtype: float64"
      ]
     },
     "execution_count": 22,
     "metadata": {},
     "output_type": "execute_result"
    }
   ],
   "source": [
    "ts.shift(1, freq=\"ME\")"
   ]
  },
  {
   "cell_type": "markdown",
   "metadata": {},
   "source": [
    "### `resample` 메서드\n",
    "`resample()` 메서드는 `DatetimeIndex`의 시간 간격을 재조정함  \n",
    "시간 간격이 좁은 다위로 변경하면 데이터 양이 증가해서 업-샘플링(up-sampling) 이라 하고 넓은 단위로 변경되면 데이터 양이 감소해서 다운-샘플링(down-sampling)이라 함  "
   ]
  },
  {
   "cell_type": "code",
   "execution_count": 23,
   "metadata": {},
   "outputs": [
    {
     "data": {
      "text/plain": [
       "2024-03-21   -0.709070\n",
       "2024-03-22   -0.510354\n",
       "2024-03-23    0.706228\n",
       "2024-03-24   -2.556535\n",
       "2024-03-25    0.591113\n",
       "2024-03-26   -0.926149\n",
       "2024-03-27    0.331683\n",
       "2024-03-28    2.315687\n",
       "2024-03-29   -0.132967\n",
       "2024-03-30    0.149743\n",
       "2024-03-31    0.250040\n",
       "2024-04-01   -0.136557\n",
       "2024-04-02    1.212777\n",
       "2024-04-03   -0.001754\n",
       "2024-04-04   -1.408803\n",
       "2024-04-05   -0.418609\n",
       "2024-04-06   -1.734089\n",
       "2024-04-07    1.411869\n",
       "2024-04-08    0.984190\n",
       "2024-04-09   -1.913567\n",
       "Freq: D, dtype: float64"
      ]
     },
     "execution_count": 23,
     "metadata": {},
     "output_type": "execute_result"
    }
   ],
   "source": [
    "ts = pd.Series(np.random.randn(100), index=pd.date_range('2024-01-01', periods=100))\n",
    "ts.tail(20)"
   ]
  },
  {
   "cell_type": "markdown",
   "metadata": {},
   "source": [
    "다운-샘플링 시에는 기존 데이터가 그룹화되는 경우와 같이 때문에 대표값을 지정해야 함 (집계처리를 해야함)"
   ]
  },
  {
   "cell_type": "code",
   "execution_count": 26,
   "metadata": {},
   "outputs": [
    {
     "data": {
      "text/plain": [
       "2024-01-07   -0.248581\n",
       "2024-01-14    0.114037\n",
       "2024-01-21    0.115298\n",
       "2024-01-28   -0.308873\n",
       "2024-02-04    0.247970\n",
       "2024-02-11   -0.230355\n",
       "2024-02-18   -0.274996\n",
       "2024-02-25    0.065692\n",
       "2024-03-03   -0.255839\n",
       "2024-03-10   -0.506786\n",
       "2024-03-17   -0.088898\n",
       "2024-03-24   -0.029389\n",
       "2024-03-31    0.368450\n",
       "2024-04-07   -0.153595\n",
       "2024-04-14   -0.464688\n",
       "Freq: W-SUN, dtype: float64"
      ]
     },
     "execution_count": 26,
     "metadata": {},
     "output_type": "execute_result"
    }
   ],
   "source": [
    "ts.resample('W').mean()"
   ]
  },
  {
   "cell_type": "markdown",
   "metadata": {},
   "source": [
    "시간 (시/분) 단위에서는 가장 빠른 값은 포함하고, 가장 늦은 값은 포함하지 않음 "
   ]
  },
  {
   "cell_type": "code",
   "execution_count": 29,
   "metadata": {},
   "outputs": [
    {
     "data": {
      "text/plain": [
       "2024-02-29 00:00:00     0\n",
       "2024-02-29 00:01:00     1\n",
       "2024-02-29 00:02:00     2\n",
       "2024-02-29 00:03:00     3\n",
       "2024-02-29 00:04:00     4\n",
       "2024-02-29 00:05:00     5\n",
       "2024-02-29 00:06:00     6\n",
       "2024-02-29 00:07:00     7\n",
       "2024-02-29 00:08:00     8\n",
       "2024-02-29 00:09:00     9\n",
       "2024-02-29 00:10:00    10\n",
       "2024-02-29 00:11:00    11\n",
       "2024-02-29 00:12:00    12\n",
       "2024-02-29 00:13:00    13\n",
       "2024-02-29 00:14:00    14\n",
       "2024-02-29 00:15:00    15\n",
       "2024-02-29 00:16:00    16\n",
       "2024-02-29 00:17:00    17\n",
       "2024-02-29 00:18:00    18\n",
       "2024-02-29 00:19:00    19\n",
       "2024-02-29 00:20:00    20\n",
       "2024-02-29 00:21:00    21\n",
       "2024-02-29 00:22:00    22\n",
       "2024-02-29 00:23:00    23\n",
       "2024-02-29 00:24:00    24\n",
       "2024-02-29 00:25:00    25\n",
       "2024-02-29 00:26:00    26\n",
       "2024-02-29 00:27:00    27\n",
       "2024-02-29 00:28:00    28\n",
       "2024-02-29 00:29:00    29\n",
       "2024-02-29 00:30:00    30\n",
       "2024-02-29 00:31:00    31\n",
       "2024-02-29 00:32:00    32\n",
       "2024-02-29 00:33:00    33\n",
       "2024-02-29 00:34:00    34\n",
       "2024-02-29 00:35:00    35\n",
       "2024-02-29 00:36:00    36\n",
       "2024-02-29 00:37:00    37\n",
       "2024-02-29 00:38:00    38\n",
       "2024-02-29 00:39:00    39\n",
       "2024-02-29 00:40:00    40\n",
       "2024-02-29 00:41:00    41\n",
       "2024-02-29 00:42:00    42\n",
       "2024-02-29 00:43:00    43\n",
       "2024-02-29 00:44:00    44\n",
       "2024-02-29 00:45:00    45\n",
       "2024-02-29 00:46:00    46\n",
       "2024-02-29 00:47:00    47\n",
       "2024-02-29 00:48:00    48\n",
       "2024-02-29 00:49:00    49\n",
       "2024-02-29 00:50:00    50\n",
       "2024-02-29 00:51:00    51\n",
       "2024-02-29 00:52:00    52\n",
       "2024-02-29 00:53:00    53\n",
       "2024-02-29 00:54:00    54\n",
       "2024-02-29 00:55:00    55\n",
       "2024-02-29 00:56:00    56\n",
       "2024-02-29 00:57:00    57\n",
       "2024-02-29 00:58:00    58\n",
       "2024-02-29 00:59:00    59\n",
       "Freq: min, dtype: int32"
      ]
     },
     "execution_count": 29,
     "metadata": {},
     "output_type": "execute_result"
    }
   ],
   "source": [
    "ts = pd.Series(np.arange(60), index=pd.date_range('2024-02-29', periods=60, freq='min'))\n",
    "ts"
   ]
  },
  {
   "cell_type": "code",
   "execution_count": 30,
   "metadata": {},
   "outputs": [
    {
     "data": {
      "text/plain": [
       "2024-02-29 00:00:00     0\n",
       "2024-02-29 00:10:00    10\n",
       "2024-02-29 00:20:00    20\n",
       "2024-02-29 00:30:00    30\n",
       "2024-02-29 00:40:00    40\n",
       "2024-02-29 00:50:00    50\n",
       "Freq: 10min, dtype: int32"
      ]
     },
     "execution_count": 30,
     "metadata": {},
     "output_type": "execute_result"
    }
   ],
   "source": [
    "ts.resample('10min').min()"
   ]
  },
  {
   "cell_type": "markdown",
   "metadata": {},
   "source": [
    "구간 한계 값을 가장 늦은 값으로 지정하고자 한다면 `closed=right`를 지정함 "
   ]
  },
  {
   "cell_type": "code",
   "execution_count": 32,
   "metadata": {},
   "outputs": [
    {
     "data": {
      "text/plain": [
       "2024-02-28 23:50:00     0\n",
       "2024-02-29 00:00:00     1\n",
       "2024-02-29 00:10:00    11\n",
       "2024-02-29 00:20:00    21\n",
       "2024-02-29 00:30:00    31\n",
       "2024-02-29 00:40:00    41\n",
       "2024-02-29 00:50:00    51\n",
       "Freq: 10min, dtype: int32"
      ]
     },
     "execution_count": 32,
     "metadata": {},
     "output_type": "execute_result"
    }
   ],
   "source": [
    "ts.resample('10min', closed='right').min()"
   ]
  },
  {
   "cell_type": "code",
   "execution_count": 34,
   "metadata": {},
   "outputs": [
    {
     "data": {
      "text/plain": [
       "2024-02-28 23:50:00     0\n",
       "2024-02-29 00:00:00    10\n",
       "2024-02-29 00:10:00    20\n",
       "2024-02-29 00:20:00    30\n",
       "2024-02-29 00:30:00    40\n",
       "2024-02-29 00:40:00    50\n",
       "2024-02-29 00:50:00    59\n",
       "Freq: 10min, dtype: int32"
      ]
     },
     "execution_count": 34,
     "metadata": {},
     "output_type": "execute_result"
    }
   ],
   "source": [
    "ts.resample('10min', closed='right').max()"
   ]
  },
  {
   "cell_type": "markdown",
   "metadata": {},
   "source": [
    "`chic()` 메서드는 구간의 시점, 고점, 저점, 종점의 값을 표현"
   ]
  },
  {
   "cell_type": "code",
   "execution_count": 36,
   "metadata": {},
   "outputs": [
    {
     "data": {
      "text/html": [
       "<div>\n",
       "<style scoped>\n",
       "    .dataframe tbody tr th:only-of-type {\n",
       "        vertical-align: middle;\n",
       "    }\n",
       "\n",
       "    .dataframe tbody tr th {\n",
       "        vertical-align: top;\n",
       "    }\n",
       "\n",
       "    .dataframe thead th {\n",
       "        text-align: right;\n",
       "    }\n",
       "</style>\n",
       "<table border=\"1\" class=\"dataframe\">\n",
       "  <thead>\n",
       "    <tr style=\"text-align: right;\">\n",
       "      <th></th>\n",
       "      <th>open</th>\n",
       "      <th>high</th>\n",
       "      <th>low</th>\n",
       "      <th>close</th>\n",
       "    </tr>\n",
       "  </thead>\n",
       "  <tbody>\n",
       "    <tr>\n",
       "      <th>2024-02-28 23:50:00</th>\n",
       "      <td>0</td>\n",
       "      <td>0</td>\n",
       "      <td>0</td>\n",
       "      <td>0</td>\n",
       "    </tr>\n",
       "    <tr>\n",
       "      <th>2024-02-29 00:00:00</th>\n",
       "      <td>1</td>\n",
       "      <td>10</td>\n",
       "      <td>1</td>\n",
       "      <td>10</td>\n",
       "    </tr>\n",
       "    <tr>\n",
       "      <th>2024-02-29 00:10:00</th>\n",
       "      <td>11</td>\n",
       "      <td>20</td>\n",
       "      <td>11</td>\n",
       "      <td>20</td>\n",
       "    </tr>\n",
       "    <tr>\n",
       "      <th>2024-02-29 00:20:00</th>\n",
       "      <td>21</td>\n",
       "      <td>30</td>\n",
       "      <td>21</td>\n",
       "      <td>30</td>\n",
       "    </tr>\n",
       "    <tr>\n",
       "      <th>2024-02-29 00:30:00</th>\n",
       "      <td>31</td>\n",
       "      <td>40</td>\n",
       "      <td>31</td>\n",
       "      <td>40</td>\n",
       "    </tr>\n",
       "    <tr>\n",
       "      <th>2024-02-29 00:40:00</th>\n",
       "      <td>41</td>\n",
       "      <td>50</td>\n",
       "      <td>41</td>\n",
       "      <td>50</td>\n",
       "    </tr>\n",
       "    <tr>\n",
       "      <th>2024-02-29 00:50:00</th>\n",
       "      <td>51</td>\n",
       "      <td>59</td>\n",
       "      <td>51</td>\n",
       "      <td>59</td>\n",
       "    </tr>\n",
       "  </tbody>\n",
       "</table>\n",
       "</div>"
      ],
      "text/plain": [
       "                     open  high  low  close\n",
       "2024-02-28 23:50:00     0     0    0      0\n",
       "2024-02-29 00:00:00     1    10    1     10\n",
       "2024-02-29 00:10:00    11    20   11     20\n",
       "2024-02-29 00:20:00    21    30   21     30\n",
       "2024-02-29 00:30:00    31    40   31     40\n",
       "2024-02-29 00:40:00    41    50   41     50\n",
       "2024-02-29 00:50:00    51    59   51     59"
      ]
     },
     "execution_count": 36,
     "metadata": {},
     "output_type": "execute_result"
    }
   ],
   "source": [
    "ts.resample('10min', closed='right').ohlc()"
   ]
  },
  {
   "cell_type": "markdown",
   "metadata": {},
   "source": [
    "업-샘플링은 데이터를 추가해야하기 때문에 foward filling 방식과 back filling 방식을 사용할 수 있음   \n",
    "foward filling은 이전 데이터를 가져와 사용하는 방법 = `ffill()`   \n",
    "back filling은 다음 데이터를 가져와 사용하는 방법 = `bfill()`"
   ]
  },
  {
   "cell_type": "code",
   "execution_count": 37,
   "metadata": {},
   "outputs": [
    {
     "data": {
      "text/plain": [
       "2024-02-29 00:00:00     0\n",
       "2024-02-29 00:01:00     1\n",
       "2024-02-29 00:02:00     2\n",
       "2024-02-29 00:03:00     3\n",
       "2024-02-29 00:04:00     4\n",
       "2024-02-29 00:05:00     5\n",
       "2024-02-29 00:06:00     6\n",
       "2024-02-29 00:07:00     7\n",
       "2024-02-29 00:08:00     8\n",
       "2024-02-29 00:09:00     9\n",
       "2024-02-29 00:10:00    10\n",
       "2024-02-29 00:11:00    11\n",
       "2024-02-29 00:12:00    12\n",
       "2024-02-29 00:13:00    13\n",
       "2024-02-29 00:14:00    14\n",
       "2024-02-29 00:15:00    15\n",
       "2024-02-29 00:16:00    16\n",
       "2024-02-29 00:17:00    17\n",
       "2024-02-29 00:18:00    18\n",
       "2024-02-29 00:19:00    19\n",
       "2024-02-29 00:20:00    20\n",
       "2024-02-29 00:21:00    21\n",
       "2024-02-29 00:22:00    22\n",
       "2024-02-29 00:23:00    23\n",
       "2024-02-29 00:24:00    24\n",
       "2024-02-29 00:25:00    25\n",
       "2024-02-29 00:26:00    26\n",
       "2024-02-29 00:27:00    27\n",
       "2024-02-29 00:28:00    28\n",
       "2024-02-29 00:29:00    29\n",
       "2024-02-29 00:30:00    30\n",
       "2024-02-29 00:31:00    31\n",
       "2024-02-29 00:32:00    32\n",
       "2024-02-29 00:33:00    33\n",
       "2024-02-29 00:34:00    34\n",
       "2024-02-29 00:35:00    35\n",
       "2024-02-29 00:36:00    36\n",
       "2024-02-29 00:37:00    37\n",
       "2024-02-29 00:38:00    38\n",
       "2024-02-29 00:39:00    39\n",
       "2024-02-29 00:40:00    40\n",
       "2024-02-29 00:41:00    41\n",
       "2024-02-29 00:42:00    42\n",
       "2024-02-29 00:43:00    43\n",
       "2024-02-29 00:44:00    44\n",
       "2024-02-29 00:45:00    45\n",
       "2024-02-29 00:46:00    46\n",
       "2024-02-29 00:47:00    47\n",
       "2024-02-29 00:48:00    48\n",
       "2024-02-29 00:49:00    49\n",
       "2024-02-29 00:50:00    50\n",
       "2024-02-29 00:51:00    51\n",
       "2024-02-29 00:52:00    52\n",
       "2024-02-29 00:53:00    53\n",
       "2024-02-29 00:54:00    54\n",
       "2024-02-29 00:55:00    55\n",
       "2024-02-29 00:56:00    56\n",
       "2024-02-29 00:57:00    57\n",
       "2024-02-29 00:58:00    58\n",
       "2024-02-29 00:59:00    59\n",
       "Freq: min, dtype: int32"
      ]
     },
     "execution_count": 37,
     "metadata": {},
     "output_type": "execute_result"
    }
   ],
   "source": [
    "ts"
   ]
  },
  {
   "cell_type": "code",
   "execution_count": 38,
   "metadata": {},
   "outputs": [
    {
     "data": {
      "text/plain": [
       "2024-02-29 00:00:00     0\n",
       "2024-02-29 00:00:30     0\n",
       "2024-02-29 00:01:00     1\n",
       "2024-02-29 00:01:30     1\n",
       "2024-02-29 00:02:00     2\n",
       "                       ..\n",
       "2024-02-29 00:57:00    57\n",
       "2024-02-29 00:57:30    57\n",
       "2024-02-29 00:58:00    58\n",
       "2024-02-29 00:58:30    58\n",
       "2024-02-29 00:59:00    59\n",
       "Freq: 30s, Length: 119, dtype: int32"
      ]
     },
     "execution_count": 38,
     "metadata": {},
     "output_type": "execute_result"
    }
   ],
   "source": [
    "ts.resample('30s').ffill()"
   ]
  },
  {
   "cell_type": "code",
   "execution_count": 39,
   "metadata": {},
   "outputs": [
    {
     "data": {
      "text/plain": [
       "2024-02-29 00:00:00     0\n",
       "2024-02-29 00:00:30     1\n",
       "2024-02-29 00:01:00     1\n",
       "2024-02-29 00:01:30     2\n",
       "2024-02-29 00:02:00     2\n",
       "                       ..\n",
       "2024-02-29 00:57:00    57\n",
       "2024-02-29 00:57:30    58\n",
       "2024-02-29 00:58:00    58\n",
       "2024-02-29 00:58:30    59\n",
       "2024-02-29 00:59:00    59\n",
       "Freq: 30s, Length: 119, dtype: int32"
      ]
     },
     "execution_count": 39,
     "metadata": {},
     "output_type": "execute_result"
    }
   ],
   "source": [
    "ts.resample('30s').bfill()"
   ]
  },
  {
   "cell_type": "markdown",
   "metadata": {},
   "source": [
    "### `dt` 접근자\n",
    "datetime의 데이터 타입 시리즈는 `dt` 접근자를 사용하여 datetime 데이터 타입이 가지는 여러가지 속성 및 메서드를 사용할 수 있음 "
   ]
  },
  {
   "cell_type": "code",
   "execution_count": 43,
   "metadata": {},
   "outputs": [
    {
     "data": {
      "text/plain": [
       "0   2024-01-01\n",
       "1   2024-01-02\n",
       "2   2024-01-03\n",
       "3   2024-01-04\n",
       "4   2024-01-05\n",
       "5   2024-01-06\n",
       "6   2024-01-07\n",
       "7   2024-01-08\n",
       "8   2024-01-09\n",
       "9   2024-01-10\n",
       "dtype: datetime64[ns]"
      ]
     },
     "execution_count": 43,
     "metadata": {},
     "output_type": "execute_result"
    }
   ],
   "source": [
    "s = pd.Series(pd.date_range(\"2024-01-01\", periods=10))\n",
    "s"
   ]
  },
  {
   "cell_type": "markdown",
   "metadata": {},
   "source": [
    "`year`, `month`, `day`와 같은 속성을 사용할 수 있음"
   ]
  },
  {
   "cell_type": "code",
   "execution_count": 44,
   "metadata": {},
   "outputs": [
    {
     "data": {
      "text/plain": [
       "0     1\n",
       "1     2\n",
       "2     3\n",
       "3     4\n",
       "4     5\n",
       "5     6\n",
       "6     7\n",
       "7     8\n",
       "8     9\n",
       "9    10\n",
       "dtype: int32"
      ]
     },
     "execution_count": 44,
     "metadata": {},
     "output_type": "execute_result"
    }
   ],
   "source": [
    "s.dt.day"
   ]
  },
  {
   "cell_type": "code",
   "execution_count": 45,
   "metadata": {},
   "outputs": [
    {
     "data": {
      "text/plain": [
       "0    2024\n",
       "1    2024\n",
       "2    2024\n",
       "3    2024\n",
       "4    2024\n",
       "5    2024\n",
       "6    2024\n",
       "7    2024\n",
       "8    2024\n",
       "9    2024\n",
       "dtype: int32"
      ]
     },
     "execution_count": 45,
     "metadata": {},
     "output_type": "execute_result"
    }
   ],
   "source": [
    "s.dt.year"
   ]
  },
  {
   "cell_type": "markdown",
   "metadata": {},
   "source": [
    "`strftime()` 메서드를 사용하여 datetime 데이터 타입의 데이터를 문자열 데이터로 변경 할 수 있음"
   ]
  },
  {
   "cell_type": "code",
   "execution_count": 46,
   "metadata": {},
   "outputs": [
    {
     "data": {
      "text/plain": [
       "0    2024.01.01.00:0000\n",
       "1    2024.01.02.00:0000\n",
       "2    2024.01.03.00:0000\n",
       "3    2024.01.04.00:0000\n",
       "4    2024.01.05.00:0000\n",
       "5    2024.01.06.00:0000\n",
       "6    2024.01.07.00:0000\n",
       "7    2024.01.08.00:0000\n",
       "8    2024.01.09.00:0000\n",
       "9    2024.01.10.00:0000\n",
       "dtype: object"
      ]
     },
     "execution_count": 46,
     "metadata": {},
     "output_type": "execute_result"
    }
   ],
   "source": [
    "s.dt.strftime('%Y.%m.%d.%H:%M%S')"
   ]
  },
  {
   "cell_type": "markdown",
   "metadata": {},
   "source": [
    "##### 파이썬으로 다음 연산을 수행한다.\n",
    "\n",
    "다음 명령으로 만들어진 데이터프레임에 대해 월별 value의 합계를 구하라.   \n",
    "(힌트: `groupby` 메서드와 `dt` 접근자를 사용하라)\n"
   ]
  },
  {
   "cell_type": "code",
   "execution_count": 67,
   "metadata": {},
   "outputs": [
    {
     "data": {
      "text/html": [
       "<div>\n",
       "<style scoped>\n",
       "    .dataframe tbody tr th:only-of-type {\n",
       "        vertical-align: middle;\n",
       "    }\n",
       "\n",
       "    .dataframe tbody tr th {\n",
       "        vertical-align: top;\n",
       "    }\n",
       "\n",
       "    .dataframe thead th {\n",
       "        text-align: right;\n",
       "    }\n",
       "</style>\n",
       "<table border=\"1\" class=\"dataframe\">\n",
       "  <thead>\n",
       "    <tr style=\"text-align: right;\">\n",
       "      <th></th>\n",
       "      <th>date</th>\n",
       "      <th>value</th>\n",
       "    </tr>\n",
       "  </thead>\n",
       "  <tbody>\n",
       "    <tr>\n",
       "      <th>0</th>\n",
       "      <td>2020-12-25</td>\n",
       "      <td>44</td>\n",
       "    </tr>\n",
       "    <tr>\n",
       "      <th>1</th>\n",
       "      <td>2020-12-26</td>\n",
       "      <td>47</td>\n",
       "    </tr>\n",
       "    <tr>\n",
       "      <th>2</th>\n",
       "      <td>2020-12-27</td>\n",
       "      <td>64</td>\n",
       "    </tr>\n",
       "    <tr>\n",
       "      <th>3</th>\n",
       "      <td>2020-12-28</td>\n",
       "      <td>67</td>\n",
       "    </tr>\n",
       "    <tr>\n",
       "      <th>4</th>\n",
       "      <td>2020-12-29</td>\n",
       "      <td>67</td>\n",
       "    </tr>\n",
       "    <tr>\n",
       "      <th>...</th>\n",
       "      <td>...</td>\n",
       "      <td>...</td>\n",
       "    </tr>\n",
       "    <tr>\n",
       "      <th>95</th>\n",
       "      <td>2021-03-30</td>\n",
       "      <td>23</td>\n",
       "    </tr>\n",
       "    <tr>\n",
       "      <th>96</th>\n",
       "      <td>2021-03-31</td>\n",
       "      <td>79</td>\n",
       "    </tr>\n",
       "    <tr>\n",
       "      <th>97</th>\n",
       "      <td>2021-04-01</td>\n",
       "      <td>13</td>\n",
       "    </tr>\n",
       "    <tr>\n",
       "      <th>98</th>\n",
       "      <td>2021-04-02</td>\n",
       "      <td>85</td>\n",
       "    </tr>\n",
       "    <tr>\n",
       "      <th>99</th>\n",
       "      <td>2021-04-03</td>\n",
       "      <td>48</td>\n",
       "    </tr>\n",
       "  </tbody>\n",
       "</table>\n",
       "<p>100 rows × 2 columns</p>\n",
       "</div>"
      ],
      "text/plain": [
       "         date  value\n",
       "0  2020-12-25     44\n",
       "1  2020-12-26     47\n",
       "2  2020-12-27     64\n",
       "3  2020-12-28     67\n",
       "4  2020-12-29     67\n",
       "..        ...    ...\n",
       "95 2021-03-30     23\n",
       "96 2021-03-31     79\n",
       "97 2021-04-01     13\n",
       "98 2021-04-02     85\n",
       "99 2021-04-03     48\n",
       "\n",
       "[100 rows x 2 columns]"
      ]
     },
     "execution_count": 67,
     "metadata": {},
     "output_type": "execute_result"
    }
   ],
   "source": [
    "np.random.seed(0)\n",
    "df = pd.DataFrame({\n",
    "    \"date\": pd.date_range(\"2020-12-25\", periods=100, freq=\"D\"),\n",
    "    \"value\": np.random.randint(100, size=(100,))\n",
    "})\n",
    "\n",
    "df\n"
   ]
  },
  {
   "cell_type": "code",
   "execution_count": 68,
   "metadata": {},
   "outputs": [],
   "source": [
    "df.date = df.date.dt.month"
   ]
  },
  {
   "cell_type": "code",
   "execution_count": 69,
   "metadata": {},
   "outputs": [
    {
     "data": {
      "text/html": [
       "<div>\n",
       "<style scoped>\n",
       "    .dataframe tbody tr th:only-of-type {\n",
       "        vertical-align: middle;\n",
       "    }\n",
       "\n",
       "    .dataframe tbody tr th {\n",
       "        vertical-align: top;\n",
       "    }\n",
       "\n",
       "    .dataframe thead th {\n",
       "        text-align: right;\n",
       "    }\n",
       "</style>\n",
       "<table border=\"1\" class=\"dataframe\">\n",
       "  <thead>\n",
       "    <tr style=\"text-align: right;\">\n",
       "      <th></th>\n",
       "      <th>value</th>\n",
       "    </tr>\n",
       "    <tr>\n",
       "      <th>date</th>\n",
       "      <th></th>\n",
       "    </tr>\n",
       "  </thead>\n",
       "  <tbody>\n",
       "    <tr>\n",
       "      <th>1</th>\n",
       "      <td>1811</td>\n",
       "    </tr>\n",
       "    <tr>\n",
       "      <th>2</th>\n",
       "      <td>985</td>\n",
       "    </tr>\n",
       "    <tr>\n",
       "      <th>3</th>\n",
       "      <td>1500</td>\n",
       "    </tr>\n",
       "    <tr>\n",
       "      <th>4</th>\n",
       "      <td>146</td>\n",
       "    </tr>\n",
       "    <tr>\n",
       "      <th>12</th>\n",
       "      <td>381</td>\n",
       "    </tr>\n",
       "  </tbody>\n",
       "</table>\n",
       "</div>"
      ],
      "text/plain": [
       "      value\n",
       "date       \n",
       "1      1811\n",
       "2       985\n",
       "3      1500\n",
       "4       146\n",
       "12      381"
      ]
     },
     "execution_count": 69,
     "metadata": {},
     "output_type": "execute_result"
    }
   ],
   "source": [
    "df.groupby(df.date).sum()"
   ]
  },
  {
   "cell_type": "markdown",
   "metadata": {},
   "source": []
  }
 ],
 "metadata": {
  "kernelspec": {
   "display_name": "Python 3",
   "language": "python",
   "name": "python3"
  },
  "language_info": {
   "codemirror_mode": {
    "name": "ipython",
    "version": 3
   },
   "file_extension": ".py",
   "mimetype": "text/x-python",
   "name": "python",
   "nbconvert_exporter": "python",
   "pygments_lexer": "ipython3",
   "version": "3.12.2"
  }
 },
 "nbformat": 4,
 "nbformat_minor": 2
}
