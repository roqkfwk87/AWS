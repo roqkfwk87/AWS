{
 "cells": [
  {
   "cell_type": "code",
   "execution_count": null,
   "metadata": {},
   "outputs": [],
   "source": [
    "# 반복문\n",
    "# for 반복문 : 반복할 횟수가 정해져있는 반복작업에서 사용 \n",
    "# for 변수 in range(반복횟수):\n",
    "#   반복할 실행문 "
   ]
  },
  {
   "cell_type": "code",
   "execution_count": 7,
   "metadata": {},
   "outputs": [
    {
     "name": "stdout",
     "output_type": "stream",
     "text": [
      "[0, 1, 2, 3, 4]\n",
      "0\n",
      "1\n",
      "2\n",
      "3\n",
      "4\n",
      "0\n",
      "1\n",
      "2\n",
      "3\n",
      "4\n",
      "5\n",
      "6\n",
      "7\n",
      "8\n",
      "9\n",
      "5\n",
      "8\n",
      "10\n",
      "9\n",
      "8\n",
      "7\n",
      "6\n",
      "5\n",
      "4\n",
      "3\n",
      "2\n",
      "1\n",
      "0\n"
     ]
    }
   ],
   "source": [
    "# for (int index = 0; index < 5; index++)\n",
    "\n",
    "# int[] array = {0, 1, 2, 3, 4}\n",
    "# for (int index: array) {} - 0\n",
    "\n",
    "# range(정수) : 0부터 정수-1 까지의 정수 리스트 생성\n",
    "# range(시작 정수, 종료 정수): 시작 정수부터 종료 정수까지의 정수 리스트 생성\n",
    "# range(시작 정수, 종료 정수, 차이) : 시작 정수부터 종료 정수-1 까지의 정수 리스트를 생성하는데 차이정수 만큼의 차이를 가지며 변경됨 \n",
    "\n",
    "print(list(range(5)))\n",
    "for index in range(5):\n",
    "    print(index)\n",
    "\n",
    "for index in range(5):\n",
    "    print(index)\n",
    "\n",
    "for index in range(5, 10):\n",
    "    print(index)\n",
    "    \n",
    "for index in range(5, 10, 3):\n",
    "    print(index)\n",
    "\n",
    "for index in range(10, -1, -1):\n",
    "    print(index)"
   ]
  },
  {
   "cell_type": "code",
   "execution_count": 12,
   "metadata": {},
   "outputs": [
    {
     "name": "stdout",
     "output_type": "stream",
     "text": [
      "*\n",
      "**\n",
      "***\n",
      "****\n",
      "*****\n",
      "******\n",
      "*******\n",
      "********\n",
      "*********\n"
     ]
    }
   ],
   "source": [
    "for index in range(1, 10):\n",
    "    print(\"*\" * index)"
   ]
  },
  {
   "cell_type": "code",
   "execution_count": 29,
   "metadata": {},
   "outputs": [
    {
     "name": "stdout",
     "output_type": "stream",
     "text": [
      "*\n",
      "**\n",
      "***\n",
      "****\n",
      "*****\n",
      "******\n",
      "*******\n",
      "********\n",
      "*********\n",
      "**********\n"
     ]
    }
   ],
   "source": [
    "for count in range(1, 11):\n",
    "    print(\"*\" * count)"
   ]
  },
  {
   "cell_type": "code",
   "execution_count": 16,
   "metadata": {},
   "outputs": [
    {
     "name": "stdout",
     "output_type": "stream",
     "text": [
      "**********\n",
      "*********\n",
      "********\n",
      "*******\n",
      "******\n",
      "*****\n",
      "****\n",
      "***\n",
      "**\n",
      "*\n",
      "\n"
     ]
    }
   ],
   "source": [
    "for index in range(10, -1, -1):\n",
    "    print(\"*\" * index)"
   ]
  },
  {
   "cell_type": "code",
   "execution_count": 38,
   "metadata": {},
   "outputs": [
    {
     "name": "stdout",
     "output_type": "stream",
     "text": [
      "**********\n",
      "*********\n",
      "********\n",
      "*******\n",
      "******\n",
      "*****\n",
      "****\n",
      "***\n",
      "**\n",
      "*\n",
      "\n"
     ]
    }
   ],
   "source": [
    "for count in range(10, -1, -1):\n",
    "    print(\"*\" * count)"
   ]
  },
  {
   "cell_type": "code",
   "execution_count": 58,
   "metadata": {},
   "outputs": [
    {
     "name": "stdout",
     "output_type": "stream",
     "text": [
      "*\n",
      "**\n",
      "***\n",
      "****\n",
      "*****\n",
      "******\n",
      "*******\n",
      "********\n",
      "*********\n",
      "**********\n",
      "*********\n",
      "********\n",
      "*******\n",
      "******\n",
      "*****\n",
      "****\n",
      "***\n",
      "**\n",
      "*\n"
     ]
    }
   ],
   "source": [
    "for count in range(1, 20):\n",
    "    if count <= 10:\n",
    "        print(\"*\" * count)\n",
    "    else:\n",
    "        print(\"*\" * (20 - count))\n"
   ]
  },
  {
   "cell_type": "code",
   "execution_count": 20,
   "metadata": {},
   "outputs": [
    {
     "name": "stdout",
     "output_type": "stream",
     "text": [
      "     *\n",
      "    ***\n",
      "   *****\n",
      "  *******\n",
      " *********\n",
      "***********\n",
      " *********\n",
      "  *******\n",
      "   *****\n",
      "    ***\n",
      "     *\n"
     ]
    }
   ],
   "source": [
    "for count in range (1, 12):\n",
    "    if count <= 6:\n",
    "        print(' ' * (6- count) + \"*\" * (count * 2 -1))\n",
    "    else:\n",
    "        print(' ' * (count -6) + \"*\" * ((12 - count) * 2 -1))"
   ]
  },
  {
   "cell_type": "code",
   "execution_count": 28,
   "metadata": {},
   "outputs": [
    {
     "name": "stdout",
     "output_type": "stream",
     "text": [
      "     *     \n",
      "    ***    \n",
      "   *****   \n",
      "  *******  \n",
      " ********* \n",
      "***********\n",
      " ********* \n",
      "  *******  \n",
      "   *****   \n",
      "    ***    \n",
      "     *     \n"
     ]
    }
   ],
   "source": [
    "for count in range (1, 12):\n",
    "    star = \"*\"\n",
    "    if count <= 6:\n",
    "        star = \"*\" * (count * 2 -1)\n",
    "        print(f\"{star:^11}\")\n",
    "    else:\n",
    "        star = \"*\" * ((12 - count) * 2 -1)\n",
    "        print(f\"{star:^11}\")"
   ]
  },
  {
   "cell_type": "code",
   "execution_count": 4,
   "metadata": {},
   "outputs": [
    {
     "name": "stdout",
     "output_type": "stream",
     "text": [
      "0 1 2 3 \n",
      "1 2 3 4 \n",
      "2 3 4 5 \n",
      "3 4 5 6 \n"
     ]
    }
   ],
   "source": [
    "# 0 1 2 3 \n",
    "# 1 2 3 4 \n",
    "# 2 3 4 5 \n",
    "# 3 4 5 6\n",
    "\n",
    "for a in range(4):\n",
    "    for b in range(4):\n",
    "        print(a + b, end=\" \")\n",
    "    print(\"\")"
   ]
  },
  {
   "cell_type": "code",
   "execution_count": 5,
   "metadata": {},
   "outputs": [
    {
     "name": "stdout",
     "output_type": "stream",
     "text": [
      "0 1 2 3 \n",
      "1 2 3 4 \n",
      "2 3 4 5 \n",
      "3 4 5 6 \n"
     ]
    }
   ],
   "source": [
    "for start in range(4):\n",
    "    for value in range(start, start + 4):\n",
    "        print(value, end=\" \")\n",
    "    print(\"\")"
   ]
  },
  {
   "cell_type": "code",
   "execution_count": 9,
   "metadata": {},
   "outputs": [
    {
     "name": "stdout",
     "output_type": "stream",
     "text": [
      "1 3\n",
      "1 3\n",
      "1 3\n",
      "1 3\n",
      "1 3\n",
      "1 3\n",
      "5 3\n",
      "5 3\n",
      "5 3\n",
      "5 3\n",
      "5 3\n",
      "5 3\n"
     ]
    }
   ],
   "source": [
    "for a in range(1, 7):\n",
    "    for b in range(1, 7):\n",
    "        if (a + b) % 4 == 0:\n",
    "            print(f\"{a} {b}\")"
   ]
  },
  {
   "cell_type": "code",
   "execution_count": 56,
   "metadata": {},
   "outputs": [
    {
     "name": "stdout",
     "output_type": "stream",
     "text": [
      "64.0\n",
      "256.0\n",
      "256.0\n",
      "1024.0\n",
      "256.0\n",
      "1024.0\n",
      "1024.0\n",
      "4096.0\n",
      "256.0\n",
      "1024.0\n",
      "1024.0\n",
      "4096.0\n",
      "1024.0\n",
      "4096.0\n",
      "4096.0\n",
      "16384\n"
     ]
    }
   ],
   "source": [
    "for day1 in range (2):\n",
    "    for day2 in range(2):\n",
    "        for day3 in range(2):\n",
    "            for day4 in range(2):\n",
    "                print(1024 * 2**(2*day1 - 1) * 2**(2*day2 - 1) * 2**(2*day3 - 1) * 2**(2*day4 - 1))"
   ]
  },
  {
   "cell_type": "code",
   "execution_count": 177,
   "metadata": {},
   "outputs": [
    {
     "name": "stdout",
     "output_type": "stream",
     "text": [
      "0\n",
      "1\n",
      "3\n",
      "6\n",
      "10\n",
      "15\n",
      "21\n",
      "28\n",
      "36\n",
      "45\n"
     ]
    }
   ],
   "source": [
    "for count in range (1, 11):\n",
    "    sum = 0\n",
    "    for value in range(count):\n",
    "        sum += value\n",
    "    print(sum)"
   ]
  },
  {
   "cell_type": "code",
   "execution_count": 70,
   "metadata": {},
   "outputs": [
    {
     "name": "stdout",
     "output_type": "stream",
     "text": [
      "220\n"
     ]
    }
   ],
   "source": [
    "sum = 0\n",
    "for count in range (1, 11):\n",
    "    for count1 in range(count + 1):\n",
    "        sum += count1 \n",
    "print(sum)"
   ]
  }
 ],
 "metadata": {
  "kernelspec": {
   "display_name": "Python 3",
   "language": "python",
   "name": "python3"
  },
  "language_info": {
   "codemirror_mode": {
    "name": "ipython",
    "version": 3
   },
   "file_extension": ".py",
   "mimetype": "text/x-python",
   "name": "python",
   "nbconvert_exporter": "python",
   "pygments_lexer": "ipython3",
   "version": "3.12.2"
  }
 },
 "nbformat": 4,
 "nbformat_minor": 2
}
